{
 "cells": [
  {
   "cell_type": "code",
   "execution_count": 117,
   "id": "72ebf636",
   "metadata": {},
   "outputs": [],
   "source": [
    "import pandas as pd\n"
   ]
  },
  {
   "cell_type": "code",
   "execution_count": null,
   "id": "3325847b",
   "metadata": {},
   "outputs": [],
   "source": [
    "videolist = 'https://www.youtube.com/playlist?list=PLDV1Zeh2NRsDGO4--qE8yH72HFL1Km93P'\n",
    "!youtube-dl -i --sub-lang EN --no-warnings --get-filename '{videolist}' >listname1.txt"
   ]
  },
  {
   "cell_type": "code",
   "execution_count": null,
   "id": "c5569d87",
   "metadata": {},
   "outputs": [],
   "source": [
    "content = pd.read_fwf('listname.txt')"
   ]
  },
  {
   "cell_type": "code",
   "execution_count": 107,
   "id": "ec892a7f",
   "metadata": {},
   "outputs": [],
   "source": [
    "#print(content)\n",
    "content.drop(content.columns[1:4],axis='columns', inplace=True)\n",
    "#print(content.loc[0])\n",
    "#print(content.index[content.loc[0]])"
   ]
  },
  {
   "cell_type": "code",
   "execution_count": 108,
   "id": "c408cbfd",
   "metadata": {},
   "outputs": [
    {
     "name": "stdout",
     "output_type": "stream",
     "text": [
      "Dijkstra's Shortest Path Algorithm _ Source Code _ Graph Theory-mbLzxKUeLJ4.mkv\n",
      "Empty DataFrame\n",
      "Columns: [Filename]\n",
      "Index: []\n"
     ]
    }
   ],
   "source": [
    "#print(glob.glob('*')[3])\n",
    "#print(content.loc[content['Filename'].str.contains('Depth First Search Algorithm _ Graph Theory-7fujbpJ0LB4.mkv')])\n",
    "#print(content[content[.str.extract(glob.glob('*')[0])])"
   ]
  },
  {
   "cell_type": "code",
   "execution_count": 110,
   "id": "628bc281",
   "metadata": {
    "scrolled": false
   },
   "outputs": [
    {
     "name": "stdout",
     "output_type": "stream",
     "text": [
      "3 Depth First Search Algorithm _ Graph Theory-7fujbpJ0LB4.mkv\n",
      "33 Max Flow Ford Fulkerson _ Source Code-Xu8jjJnwvxE.mkv\n",
      "31 Eager Prim's Minimum Spanning Tree Algorithm _ Source Code-CI5Fvk-dGVs.mkv\n",
      "18 Dijkstra's Shortest Path Algorithm _ Source Code _ Graph Theory-mbLzxKUeLJ4.mkv\n",
      "21 Floyd Warshall All Pairs Shortest Path Algorithm _ Graph Theory _ Dynamic Programming _ Source Code-0dTrKG5UK9k.mp4\n",
      "19 Bellman Ford Algorithm _ Shortest path & Negative cycles _ Graph Theory-lyw4FaxrwHg.mp4\n",
      "7 Beginner tree algorithms _ Graph Theory-0qgaIMqOEVs.mkv\n",
      "35 Bipartite Matching _ Mice and Owls problem _ Network Flow _ Graph Theory-ar6x7dHfGHA.mkv\n",
      "26 Existence of Eulerian Paths and Circuits _ Graph Theory-xR4sGgwtR2I.mkv\n",
      "2 Overview of algorithms in Graph Theory-87X57ldq1ok.webm\n",
      "41 Dinic's Algorithm _ Network Flow _ Graph Theory-M6cm8UeeziI.mkv\n",
      "28 Eulerian Path Algorithm _ Graph Theory _ Source Code-QQ3jO1dKjYQ.mkv\n",
      "30 Eager Prim's Minimum Spanning Tree Algorithm _ Graph Theory-xq3ABa-px_g.mkv\n",
      "23 Tarjans Strongly Connected Components algorithm source code _ Graph Theory-hKhLj7bfDKk.mp4\n",
      "32 Max Flow Ford Fulkerson _ Network Flow _ Graph Theory-LdOnanfc5TM.mkv\n",
      "10 Identifying Isomorphic Trees _ Graph Theory-OCKvEMF0Xac.mkv\n",
      "15 Topological Sort _ Kahn's Algorithm _ Graph Theory-cIBFEhD77b4.mkv\n",
      "34 Unweighted Bipartite Matching _ Network Flow _ Graph Theory-GhjwOiJ4SqU.mkv\n",
      "38 Edmonds Karp Algorithm _ Source Code-OViaWp9Q-Oc.mkv\n",
      "20 Floyd Warshall All Pairs Shortest Path Algorithm _ Graph Theory _ Dynamic Programming-4NQ3HnhyNfQ.mkv\n",
      "25 Travelling Salesman Problem source code _ Dynamic Programming _ Graph Theory-udEe7Cv3DqU.mp4\n",
      "40 Capacity Scaling _ Network Flow _ Source Code-hZqiLIaIEFg.mkv\n",
      "0 Graph Theory Algorithms-DgXR2OWQnLc.mkv\n",
      "42 Dinic's Algorithm _ Network Flow _ Source Code-_SdF4KK_dyM.mkv\n",
      "6 Introduction to tree algorithms _ Graph Theory-1XC3p2zBK34.mkv\n",
      "29 Prim's Minimum Spanning Tree Algorithm _ Graph Theory-jsmMtJpPnhU.mkv\n",
      "39 Capacity Scaling _ Network Flow _ Graph Theory-1ewLrXUz4kk.mkv\n",
      "4 Breadth First Search Algorithm _ Shortest Path _ Graph Theory-oDqjPvD54Ss.mkv\n",
      "37 Edmonds Karp Algorithm _ Network Flow _ Graph Theory-RppuJYwlcI8.mkv\n",
      "5 Breadth First Search grid shortest path _ Graph Theory-KiCBXu4P-2Y.mkv\n",
      "11 Identifying Isomorphic Trees _ Source Code _ Graph Theory-40Jx-at2P5k.mkv\n",
      "1 Graph Theory Introduction-eQA-m22wjTQ.mkv\n",
      "17 Dijkstra's Shortest Path Algorithm _ Graph Theory-pSqmAO-m7Lk.mkv\n",
      "14 Topological Sort Algorithm _ Graph Theory-eL-KzMXSXXI.mp4\n",
      "24 Travelling Salesman Problem _ Dynamic Programming _ Graph Theory-cY4HiiFHO1o.mp4\n",
      "36 Bipartite Matching _ Elementary Math problem _ Network Flow _ Graph Theory-zrGnYstL4ss.mkv\n",
      "8 Rooting a tree _ Graph Theory-2FFq2_je7Lg.mkv\n"
     ]
    },
    {
     "name": "stderr",
     "output_type": "stream",
     "text": [
      "/Users/moniemfpc/opt/anaconda3/lib/python3.8/site-packages/pandas/core/strings/accessor.py:101: UserWarning: This pattern has match groups. To actually get the groups, use str.extract.\n",
      "  return func(self, *args, **kwargs)\n"
     ]
    }
   ],
   "source": [
    "import glob\n",
    "import os\n",
    "path = os.getcwd()\n",
    "for filename in glob.glob(\"*\"):\n",
    "    x=content.index[content['Filename'].str.contains(filename.split('.')[0])].tolist()\n",
    "    if (len(x)>0):\n",
    "        x.append(filename)\n",
    "        os.rename(filename, os.path.join(path,str(x[0])+' '+x[1]))\n",
    "        print('renamed',str(x[0])+' '+x[1])\n"
   ]
  },
  {
   "cell_type": "code",
   "execution_count": null,
   "id": "979acc11",
   "metadata": {},
   "outputs": [],
   "source": []
  }
 ],
 "metadata": {
  "kernelspec": {
   "display_name": "Python 3",
   "language": "python",
   "name": "python3"
  },
  "language_info": {
   "codemirror_mode": {
    "name": "ipython",
    "version": 3
   },
   "file_extension": ".py",
   "mimetype": "text/x-python",
   "name": "python",
   "nbconvert_exporter": "python",
   "pygments_lexer": "ipython3",
   "version": "3.8.8"
  }
 },
 "nbformat": 4,
 "nbformat_minor": 5
}
